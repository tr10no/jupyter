{
 "cells": [
  {
   "cell_type": "code",
   "execution_count": 57,
   "id": "953afd94",
   "metadata": {},
   "outputs": [],
   "source": [
    "import pandas as pd\n",
    "import matplotlib.pyplot as plt\n",
    "from sklearn.linear_model import LinearRegression\n",
    "from sklearn.model_selection import train_test_split\n",
    "data = pd.read_csv('datarumah.csv',usecols=['price','bedrooms','bathrooms','sqft_living','floors','grade','yr_built'])"
   ]
  },
  {
   "cell_type": "code",
   "execution_count": 74,
   "id": "64bcea38",
   "metadata": {},
   "outputs": [
    {
     "data": {
      "text/html": [
       "<div>\n",
       "<style scoped>\n",
       "    .dataframe tbody tr th:only-of-type {\n",
       "        vertical-align: middle;\n",
       "    }\n",
       "\n",
       "    .dataframe tbody tr th {\n",
       "        vertical-align: top;\n",
       "    }\n",
       "\n",
       "    .dataframe thead th {\n",
       "        text-align: right;\n",
       "    }\n",
       "</style>\n",
       "<table border=\"1\" class=\"dataframe\">\n",
       "  <thead>\n",
       "    <tr style=\"text-align: right;\">\n",
       "      <th></th>\n",
       "      <th>price</th>\n",
       "      <th>bedrooms</th>\n",
       "      <th>bathrooms</th>\n",
       "      <th>sqft_living</th>\n",
       "      <th>floors</th>\n",
       "      <th>grade</th>\n",
       "      <th>yr_built</th>\n",
       "    </tr>\n",
       "  </thead>\n",
       "  <tbody>\n",
       "    <tr>\n",
       "      <th>0</th>\n",
       "      <td>221900.0</td>\n",
       "      <td>3</td>\n",
       "      <td>1</td>\n",
       "      <td>1180</td>\n",
       "      <td>1.0</td>\n",
       "      <td>7</td>\n",
       "      <td>1955</td>\n",
       "    </tr>\n",
       "    <tr>\n",
       "      <th>1</th>\n",
       "      <td>538000.0</td>\n",
       "      <td>3</td>\n",
       "      <td>2</td>\n",
       "      <td>2570</td>\n",
       "      <td>2.0</td>\n",
       "      <td>7</td>\n",
       "      <td>1951</td>\n",
       "    </tr>\n",
       "    <tr>\n",
       "      <th>2</th>\n",
       "      <td>180000.0</td>\n",
       "      <td>2</td>\n",
       "      <td>1</td>\n",
       "      <td>770</td>\n",
       "      <td>1.0</td>\n",
       "      <td>6</td>\n",
       "      <td>1933</td>\n",
       "    </tr>\n",
       "    <tr>\n",
       "      <th>3</th>\n",
       "      <td>604000.0</td>\n",
       "      <td>4</td>\n",
       "      <td>3</td>\n",
       "      <td>1960</td>\n",
       "      <td>1.0</td>\n",
       "      <td>7</td>\n",
       "      <td>1965</td>\n",
       "    </tr>\n",
       "    <tr>\n",
       "      <th>4</th>\n",
       "      <td>510000.0</td>\n",
       "      <td>3</td>\n",
       "      <td>2</td>\n",
       "      <td>1680</td>\n",
       "      <td>1.0</td>\n",
       "      <td>8</td>\n",
       "      <td>1987</td>\n",
       "    </tr>\n",
       "    <tr>\n",
       "      <th>...</th>\n",
       "      <td>...</td>\n",
       "      <td>...</td>\n",
       "      <td>...</td>\n",
       "      <td>...</td>\n",
       "      <td>...</td>\n",
       "      <td>...</td>\n",
       "      <td>...</td>\n",
       "    </tr>\n",
       "    <tr>\n",
       "      <th>21608</th>\n",
       "      <td>360000.0</td>\n",
       "      <td>3</td>\n",
       "      <td>2</td>\n",
       "      <td>1530</td>\n",
       "      <td>3.0</td>\n",
       "      <td>8</td>\n",
       "      <td>2009</td>\n",
       "    </tr>\n",
       "    <tr>\n",
       "      <th>21609</th>\n",
       "      <td>400000.0</td>\n",
       "      <td>4</td>\n",
       "      <td>2</td>\n",
       "      <td>2310</td>\n",
       "      <td>2.0</td>\n",
       "      <td>8</td>\n",
       "      <td>2014</td>\n",
       "    </tr>\n",
       "    <tr>\n",
       "      <th>21610</th>\n",
       "      <td>402101.0</td>\n",
       "      <td>2</td>\n",
       "      <td>0</td>\n",
       "      <td>1020</td>\n",
       "      <td>2.0</td>\n",
       "      <td>7</td>\n",
       "      <td>2009</td>\n",
       "    </tr>\n",
       "    <tr>\n",
       "      <th>21611</th>\n",
       "      <td>400000.0</td>\n",
       "      <td>3</td>\n",
       "      <td>2</td>\n",
       "      <td>1600</td>\n",
       "      <td>2.0</td>\n",
       "      <td>8</td>\n",
       "      <td>2004</td>\n",
       "    </tr>\n",
       "    <tr>\n",
       "      <th>21612</th>\n",
       "      <td>325000.0</td>\n",
       "      <td>2</td>\n",
       "      <td>0</td>\n",
       "      <td>1020</td>\n",
       "      <td>2.0</td>\n",
       "      <td>7</td>\n",
       "      <td>2008</td>\n",
       "    </tr>\n",
       "  </tbody>\n",
       "</table>\n",
       "<p>21613 rows × 7 columns</p>\n",
       "</div>"
      ],
      "text/plain": [
       "          price  bedrooms  bathrooms  sqft_living  floors  grade  yr_built\n",
       "0      221900.0         3          1         1180     1.0      7      1955\n",
       "1      538000.0         3          2         2570     2.0      7      1951\n",
       "2      180000.0         2          1          770     1.0      6      1933\n",
       "3      604000.0         4          3         1960     1.0      7      1965\n",
       "4      510000.0         3          2         1680     1.0      8      1987\n",
       "...         ...       ...        ...          ...     ...    ...       ...\n",
       "21608  360000.0         3          2         1530     3.0      8      2009\n",
       "21609  400000.0         4          2         2310     2.0      8      2014\n",
       "21610  402101.0         2          0         1020     2.0      7      2009\n",
       "21611  400000.0         3          2         1600     2.0      8      2004\n",
       "21612  325000.0         2          0         1020     2.0      7      2008\n",
       "\n",
       "[21613 rows x 7 columns]"
      ]
     },
     "execution_count": 74,
     "metadata": {},
     "output_type": "execute_result"
    }
   ],
   "source": [
    "data"
   ]
  },
  {
   "cell_type": "code",
   "execution_count": 59,
   "id": "0477d9f6",
   "metadata": {},
   "outputs": [
    {
     "data": {
      "text/html": [
       "<div>\n",
       "<style scoped>\n",
       "    .dataframe tbody tr th:only-of-type {\n",
       "        vertical-align: middle;\n",
       "    }\n",
       "\n",
       "    .dataframe tbody tr th {\n",
       "        vertical-align: top;\n",
       "    }\n",
       "\n",
       "    .dataframe thead th {\n",
       "        text-align: right;\n",
       "    }\n",
       "</style>\n",
       "<table border=\"1\" class=\"dataframe\">\n",
       "  <thead>\n",
       "    <tr style=\"text-align: right;\">\n",
       "      <th></th>\n",
       "      <th>price</th>\n",
       "      <th>bedrooms</th>\n",
       "      <th>bathrooms</th>\n",
       "      <th>sqft_living</th>\n",
       "      <th>floors</th>\n",
       "      <th>grade</th>\n",
       "      <th>yr_built</th>\n",
       "    </tr>\n",
       "  </thead>\n",
       "  <tbody>\n",
       "    <tr>\n",
       "      <th>count</th>\n",
       "      <td>2.161300e+04</td>\n",
       "      <td>21613.000000</td>\n",
       "      <td>21613.000000</td>\n",
       "      <td>21613.000000</td>\n",
       "      <td>21613.000000</td>\n",
       "      <td>21613.000000</td>\n",
       "      <td>21613.000000</td>\n",
       "    </tr>\n",
       "    <tr>\n",
       "      <th>mean</th>\n",
       "      <td>5.400881e+05</td>\n",
       "      <td>3.370842</td>\n",
       "      <td>2.114757</td>\n",
       "      <td>2079.899736</td>\n",
       "      <td>1.494309</td>\n",
       "      <td>7.656873</td>\n",
       "      <td>1971.005136</td>\n",
       "    </tr>\n",
       "    <tr>\n",
       "      <th>std</th>\n",
       "      <td>3.671272e+05</td>\n",
       "      <td>0.930062</td>\n",
       "      <td>0.770163</td>\n",
       "      <td>918.440897</td>\n",
       "      <td>0.539989</td>\n",
       "      <td>1.175459</td>\n",
       "      <td>29.373411</td>\n",
       "    </tr>\n",
       "    <tr>\n",
       "      <th>min</th>\n",
       "      <td>7.500000e+04</td>\n",
       "      <td>0.000000</td>\n",
       "      <td>0.000000</td>\n",
       "      <td>290.000000</td>\n",
       "      <td>1.000000</td>\n",
       "      <td>1.000000</td>\n",
       "      <td>1900.000000</td>\n",
       "    </tr>\n",
       "    <tr>\n",
       "      <th>25%</th>\n",
       "      <td>3.219500e+05</td>\n",
       "      <td>3.000000</td>\n",
       "      <td>1.750000</td>\n",
       "      <td>1427.000000</td>\n",
       "      <td>1.000000</td>\n",
       "      <td>7.000000</td>\n",
       "      <td>1951.000000</td>\n",
       "    </tr>\n",
       "    <tr>\n",
       "      <th>50%</th>\n",
       "      <td>4.500000e+05</td>\n",
       "      <td>3.000000</td>\n",
       "      <td>2.250000</td>\n",
       "      <td>1910.000000</td>\n",
       "      <td>1.500000</td>\n",
       "      <td>7.000000</td>\n",
       "      <td>1975.000000</td>\n",
       "    </tr>\n",
       "    <tr>\n",
       "      <th>75%</th>\n",
       "      <td>6.450000e+05</td>\n",
       "      <td>4.000000</td>\n",
       "      <td>2.500000</td>\n",
       "      <td>2550.000000</td>\n",
       "      <td>2.000000</td>\n",
       "      <td>8.000000</td>\n",
       "      <td>1997.000000</td>\n",
       "    </tr>\n",
       "    <tr>\n",
       "      <th>max</th>\n",
       "      <td>7.700000e+06</td>\n",
       "      <td>33.000000</td>\n",
       "      <td>8.000000</td>\n",
       "      <td>13540.000000</td>\n",
       "      <td>3.500000</td>\n",
       "      <td>13.000000</td>\n",
       "      <td>2015.000000</td>\n",
       "    </tr>\n",
       "  </tbody>\n",
       "</table>\n",
       "</div>"
      ],
      "text/plain": [
       "              price      bedrooms     bathrooms   sqft_living        floors  \\\n",
       "count  2.161300e+04  21613.000000  21613.000000  21613.000000  21613.000000   \n",
       "mean   5.400881e+05      3.370842      2.114757   2079.899736      1.494309   \n",
       "std    3.671272e+05      0.930062      0.770163    918.440897      0.539989   \n",
       "min    7.500000e+04      0.000000      0.000000    290.000000      1.000000   \n",
       "25%    3.219500e+05      3.000000      1.750000   1427.000000      1.000000   \n",
       "50%    4.500000e+05      3.000000      2.250000   1910.000000      1.500000   \n",
       "75%    6.450000e+05      4.000000      2.500000   2550.000000      2.000000   \n",
       "max    7.700000e+06     33.000000      8.000000  13540.000000      3.500000   \n",
       "\n",
       "              grade      yr_built  \n",
       "count  21613.000000  21613.000000  \n",
       "mean       7.656873   1971.005136  \n",
       "std        1.175459     29.373411  \n",
       "min        1.000000   1900.000000  \n",
       "25%        7.000000   1951.000000  \n",
       "50%        7.000000   1975.000000  \n",
       "75%        8.000000   1997.000000  \n",
       "max       13.000000   2015.000000  "
      ]
     },
     "execution_count": 59,
     "metadata": {},
     "output_type": "execute_result"
    }
   ],
   "source": [
    "data.describe()"
   ]
  },
  {
   "cell_type": "code",
   "execution_count": 60,
   "id": "6aa9f22f",
   "metadata": {},
   "outputs": [],
   "source": [
    "data['bathrooms'] = data['bathrooms'].astype('int')"
   ]
  },
  {
   "cell_type": "code",
   "execution_count": 61,
   "id": "80cf3413",
   "metadata": {},
   "outputs": [],
   "source": [
    "data['bedrooms'] = data['bedrooms'].replace(33,3)"
   ]
  },
  {
   "cell_type": "code",
   "execution_count": 62,
   "id": "cb55efca",
   "metadata": {},
   "outputs": [
    {
     "data": {
      "text/html": [
       "<div>\n",
       "<style scoped>\n",
       "    .dataframe tbody tr th:only-of-type {\n",
       "        vertical-align: middle;\n",
       "    }\n",
       "\n",
       "    .dataframe tbody tr th {\n",
       "        vertical-align: top;\n",
       "    }\n",
       "\n",
       "    .dataframe thead th {\n",
       "        text-align: right;\n",
       "    }\n",
       "</style>\n",
       "<table border=\"1\" class=\"dataframe\">\n",
       "  <thead>\n",
       "    <tr style=\"text-align: right;\">\n",
       "      <th></th>\n",
       "      <th>price</th>\n",
       "      <th>bedrooms</th>\n",
       "      <th>bathrooms</th>\n",
       "      <th>sqft_living</th>\n",
       "      <th>floors</th>\n",
       "      <th>grade</th>\n",
       "      <th>yr_built</th>\n",
       "    </tr>\n",
       "  </thead>\n",
       "  <tbody>\n",
       "    <tr>\n",
       "      <th>count</th>\n",
       "      <td>2.161300e+04</td>\n",
       "      <td>21613.000000</td>\n",
       "      <td>21613.000000</td>\n",
       "      <td>21613.000000</td>\n",
       "      <td>21613.000000</td>\n",
       "      <td>21613.000000</td>\n",
       "      <td>21613.000000</td>\n",
       "    </tr>\n",
       "    <tr>\n",
       "      <th>mean</th>\n",
       "      <td>5.400881e+05</td>\n",
       "      <td>3.369454</td>\n",
       "      <td>1.749734</td>\n",
       "      <td>2079.899736</td>\n",
       "      <td>1.494309</td>\n",
       "      <td>7.656873</td>\n",
       "      <td>1971.005136</td>\n",
       "    </tr>\n",
       "    <tr>\n",
       "      <th>std</th>\n",
       "      <td>3.671272e+05</td>\n",
       "      <td>0.907964</td>\n",
       "      <td>0.734873</td>\n",
       "      <td>918.440897</td>\n",
       "      <td>0.539989</td>\n",
       "      <td>1.175459</td>\n",
       "      <td>29.373411</td>\n",
       "    </tr>\n",
       "    <tr>\n",
       "      <th>min</th>\n",
       "      <td>7.500000e+04</td>\n",
       "      <td>0.000000</td>\n",
       "      <td>0.000000</td>\n",
       "      <td>290.000000</td>\n",
       "      <td>1.000000</td>\n",
       "      <td>1.000000</td>\n",
       "      <td>1900.000000</td>\n",
       "    </tr>\n",
       "    <tr>\n",
       "      <th>25%</th>\n",
       "      <td>3.219500e+05</td>\n",
       "      <td>3.000000</td>\n",
       "      <td>1.000000</td>\n",
       "      <td>1427.000000</td>\n",
       "      <td>1.000000</td>\n",
       "      <td>7.000000</td>\n",
       "      <td>1951.000000</td>\n",
       "    </tr>\n",
       "    <tr>\n",
       "      <th>50%</th>\n",
       "      <td>4.500000e+05</td>\n",
       "      <td>3.000000</td>\n",
       "      <td>2.000000</td>\n",
       "      <td>1910.000000</td>\n",
       "      <td>1.500000</td>\n",
       "      <td>7.000000</td>\n",
       "      <td>1975.000000</td>\n",
       "    </tr>\n",
       "    <tr>\n",
       "      <th>75%</th>\n",
       "      <td>6.450000e+05</td>\n",
       "      <td>4.000000</td>\n",
       "      <td>2.000000</td>\n",
       "      <td>2550.000000</td>\n",
       "      <td>2.000000</td>\n",
       "      <td>8.000000</td>\n",
       "      <td>1997.000000</td>\n",
       "    </tr>\n",
       "    <tr>\n",
       "      <th>max</th>\n",
       "      <td>7.700000e+06</td>\n",
       "      <td>11.000000</td>\n",
       "      <td>8.000000</td>\n",
       "      <td>13540.000000</td>\n",
       "      <td>3.500000</td>\n",
       "      <td>13.000000</td>\n",
       "      <td>2015.000000</td>\n",
       "    </tr>\n",
       "  </tbody>\n",
       "</table>\n",
       "</div>"
      ],
      "text/plain": [
       "              price      bedrooms     bathrooms   sqft_living        floors  \\\n",
       "count  2.161300e+04  21613.000000  21613.000000  21613.000000  21613.000000   \n",
       "mean   5.400881e+05      3.369454      1.749734   2079.899736      1.494309   \n",
       "std    3.671272e+05      0.907964      0.734873    918.440897      0.539989   \n",
       "min    7.500000e+04      0.000000      0.000000    290.000000      1.000000   \n",
       "25%    3.219500e+05      3.000000      1.000000   1427.000000      1.000000   \n",
       "50%    4.500000e+05      3.000000      2.000000   1910.000000      1.500000   \n",
       "75%    6.450000e+05      4.000000      2.000000   2550.000000      2.000000   \n",
       "max    7.700000e+06     11.000000      8.000000  13540.000000      3.500000   \n",
       "\n",
       "              grade      yr_built  \n",
       "count  21613.000000  21613.000000  \n",
       "mean       7.656873   1971.005136  \n",
       "std        1.175459     29.373411  \n",
       "min        1.000000   1900.000000  \n",
       "25%        7.000000   1951.000000  \n",
       "50%        7.000000   1975.000000  \n",
       "75%        8.000000   1997.000000  \n",
       "max       13.000000   2015.000000  "
      ]
     },
     "execution_count": 62,
     "metadata": {},
     "output_type": "execute_result"
    }
   ],
   "source": [
    "data.describe()"
   ]
  },
  {
   "cell_type": "code",
   "execution_count": 63,
   "id": "fc63cf55",
   "metadata": {},
   "outputs": [
    {
     "data": {
      "text/plain": [
       "price          0\n",
       "bedrooms       0\n",
       "bathrooms      0\n",
       "sqft_living    0\n",
       "floors         0\n",
       "grade          0\n",
       "yr_built       0\n",
       "dtype: int64"
      ]
     },
     "execution_count": 63,
     "metadata": {},
     "output_type": "execute_result"
    }
   ],
   "source": [
    "data.isnull().sum()"
   ]
  },
  {
   "cell_type": "code",
   "execution_count": 64,
   "id": "7473513d",
   "metadata": {},
   "outputs": [
    {
     "data": {
      "text/html": [
       "<style  type=\"text/css\" >\n",
       "</style><table id=\"T_5aba5_\" ><thead>    <tr>        <th class=\"blank level0\" ></th>        <th class=\"col_heading level0 col0\" >price</th>        <th class=\"col_heading level0 col1\" >bedrooms</th>        <th class=\"col_heading level0 col2\" >bathrooms</th>        <th class=\"col_heading level0 col3\" >sqft_living</th>        <th class=\"col_heading level0 col4\" >floors</th>        <th class=\"col_heading level0 col5\" >grade</th>        <th class=\"col_heading level0 col6\" >yr_built</th>    </tr></thead><tbody>\n",
       "                <tr>\n",
       "                        <th id=\"T_5aba5_level0_row0\" class=\"row_heading level0 row0\" >price</th>\n",
       "                        <td id=\"T_5aba5_row0_col0\" class=\"data row0 col0\" >1.00</td>\n",
       "                        <td id=\"T_5aba5_row0_col1\" class=\"data row0 col1\" >0.32</td>\n",
       "                        <td id=\"T_5aba5_row0_col2\" class=\"data row0 col2\" >0.51</td>\n",
       "                        <td id=\"T_5aba5_row0_col3\" class=\"data row0 col3\" >0.70</td>\n",
       "                        <td id=\"T_5aba5_row0_col4\" class=\"data row0 col4\" >0.26</td>\n",
       "                        <td id=\"T_5aba5_row0_col5\" class=\"data row0 col5\" >0.67</td>\n",
       "                        <td id=\"T_5aba5_row0_col6\" class=\"data row0 col6\" >0.05</td>\n",
       "            </tr>\n",
       "            <tr>\n",
       "                        <th id=\"T_5aba5_level0_row1\" class=\"row_heading level0 row1\" >bedrooms</th>\n",
       "                        <td id=\"T_5aba5_row1_col0\" class=\"data row1 col0\" >0.32</td>\n",
       "                        <td id=\"T_5aba5_row1_col1\" class=\"data row1 col1\" >1.00</td>\n",
       "                        <td id=\"T_5aba5_row1_col2\" class=\"data row1 col2\" >0.48</td>\n",
       "                        <td id=\"T_5aba5_row1_col3\" class=\"data row1 col3\" >0.59</td>\n",
       "                        <td id=\"T_5aba5_row1_col4\" class=\"data row1 col4\" >0.18</td>\n",
       "                        <td id=\"T_5aba5_row1_col5\" class=\"data row1 col5\" >0.37</td>\n",
       "                        <td id=\"T_5aba5_row1_col6\" class=\"data row1 col6\" >0.16</td>\n",
       "            </tr>\n",
       "            <tr>\n",
       "                        <th id=\"T_5aba5_level0_row2\" class=\"row_heading level0 row2\" >bathrooms</th>\n",
       "                        <td id=\"T_5aba5_row2_col0\" class=\"data row2 col0\" >0.51</td>\n",
       "                        <td id=\"T_5aba5_row2_col1\" class=\"data row2 col1\" >0.48</td>\n",
       "                        <td id=\"T_5aba5_row2_col2\" class=\"data row2 col2\" >1.00</td>\n",
       "                        <td id=\"T_5aba5_row2_col3\" class=\"data row2 col3\" >0.70</td>\n",
       "                        <td id=\"T_5aba5_row2_col4\" class=\"data row2 col4\" >0.47</td>\n",
       "                        <td id=\"T_5aba5_row2_col5\" class=\"data row2 col5\" >0.61</td>\n",
       "                        <td id=\"T_5aba5_row2_col6\" class=\"data row2 col6\" >0.43</td>\n",
       "            </tr>\n",
       "            <tr>\n",
       "                        <th id=\"T_5aba5_level0_row3\" class=\"row_heading level0 row3\" >sqft_living</th>\n",
       "                        <td id=\"T_5aba5_row3_col0\" class=\"data row3 col0\" >0.70</td>\n",
       "                        <td id=\"T_5aba5_row3_col1\" class=\"data row3 col1\" >0.59</td>\n",
       "                        <td id=\"T_5aba5_row3_col2\" class=\"data row3 col2\" >0.70</td>\n",
       "                        <td id=\"T_5aba5_row3_col3\" class=\"data row3 col3\" >1.00</td>\n",
       "                        <td id=\"T_5aba5_row3_col4\" class=\"data row3 col4\" >0.35</td>\n",
       "                        <td id=\"T_5aba5_row3_col5\" class=\"data row3 col5\" >0.76</td>\n",
       "                        <td id=\"T_5aba5_row3_col6\" class=\"data row3 col6\" >0.32</td>\n",
       "            </tr>\n",
       "            <tr>\n",
       "                        <th id=\"T_5aba5_level0_row4\" class=\"row_heading level0 row4\" >floors</th>\n",
       "                        <td id=\"T_5aba5_row4_col0\" class=\"data row4 col0\" >0.26</td>\n",
       "                        <td id=\"T_5aba5_row4_col1\" class=\"data row4 col1\" >0.18</td>\n",
       "                        <td id=\"T_5aba5_row4_col2\" class=\"data row4 col2\" >0.47</td>\n",
       "                        <td id=\"T_5aba5_row4_col3\" class=\"data row4 col3\" >0.35</td>\n",
       "                        <td id=\"T_5aba5_row4_col4\" class=\"data row4 col4\" >1.00</td>\n",
       "                        <td id=\"T_5aba5_row4_col5\" class=\"data row4 col5\" >0.46</td>\n",
       "                        <td id=\"T_5aba5_row4_col6\" class=\"data row4 col6\" >0.49</td>\n",
       "            </tr>\n",
       "            <tr>\n",
       "                        <th id=\"T_5aba5_level0_row5\" class=\"row_heading level0 row5\" >grade</th>\n",
       "                        <td id=\"T_5aba5_row5_col0\" class=\"data row5 col0\" >0.67</td>\n",
       "                        <td id=\"T_5aba5_row5_col1\" class=\"data row5 col1\" >0.37</td>\n",
       "                        <td id=\"T_5aba5_row5_col2\" class=\"data row5 col2\" >0.61</td>\n",
       "                        <td id=\"T_5aba5_row5_col3\" class=\"data row5 col3\" >0.76</td>\n",
       "                        <td id=\"T_5aba5_row5_col4\" class=\"data row5 col4\" >0.46</td>\n",
       "                        <td id=\"T_5aba5_row5_col5\" class=\"data row5 col5\" >1.00</td>\n",
       "                        <td id=\"T_5aba5_row5_col6\" class=\"data row5 col6\" >0.45</td>\n",
       "            </tr>\n",
       "            <tr>\n",
       "                        <th id=\"T_5aba5_level0_row6\" class=\"row_heading level0 row6\" >yr_built</th>\n",
       "                        <td id=\"T_5aba5_row6_col0\" class=\"data row6 col0\" >0.05</td>\n",
       "                        <td id=\"T_5aba5_row6_col1\" class=\"data row6 col1\" >0.16</td>\n",
       "                        <td id=\"T_5aba5_row6_col2\" class=\"data row6 col2\" >0.43</td>\n",
       "                        <td id=\"T_5aba5_row6_col3\" class=\"data row6 col3\" >0.32</td>\n",
       "                        <td id=\"T_5aba5_row6_col4\" class=\"data row6 col4\" >0.49</td>\n",
       "                        <td id=\"T_5aba5_row6_col5\" class=\"data row6 col5\" >0.45</td>\n",
       "                        <td id=\"T_5aba5_row6_col6\" class=\"data row6 col6\" >1.00</td>\n",
       "            </tr>\n",
       "    </tbody></table>"
      ],
      "text/plain": [
       "<pandas.io.formats.style.Styler at 0xabaaf9fc70>"
      ]
     },
     "execution_count": 64,
     "metadata": {},
     "output_type": "execute_result"
    }
   ],
   "source": [
    "data.corr().style.set_precision(2)"
   ]
  },
  {
   "cell_type": "code",
   "execution_count": 75,
   "id": "039fc78c",
   "metadata": {},
   "outputs": [],
   "source": [
    "# mendefinisikan data x dan y\n",
    "# x = bedrooms,bathrooms,sqft_living,floors, grade, dan yr_built\n",
    "# y = price\n",
    "\n",
    "x = data.drop(columns='price')\n",
    "y = data['price']"
   ]
  },
  {
   "cell_type": "code",
   "execution_count": 76,
   "id": "eaa7f66a",
   "metadata": {},
   "outputs": [],
   "source": [
    "# split data menjadi 80 train data dan 20 test data\n",
    "\n",
    "x_train, x_test, y_train, y_test = train_test_split(x, y, test_size=0.2, random_state=4)"
   ]
  },
  {
   "cell_type": "code",
   "execution_count": 77,
   "id": "47e49af3",
   "metadata": {},
   "outputs": [
    {
     "name": "stdout",
     "output_type": "stream",
     "text": [
      "(17290, 6)\n",
      "(17290,)\n",
      "(4323, 6)\n",
      "(4323,)\n"
     ]
    }
   ],
   "source": [
    "# cek shap dari masing-masing data\n",
    "\n",
    "print(x_train.shape)\n",
    "print(y_train.shape)\n",
    "print(x_test.shape)\n",
    "print(y_test.shape)"
   ]
  },
  {
   "cell_type": "code",
   "execution_count": 78,
   "id": "dcf095dc",
   "metadata": {},
   "outputs": [],
   "source": [
    "# selanjutnya kita buat model linear regression nya\n",
    "\n",
    "lin_reg = LinearRegression()"
   ]
  },
  {
   "cell_type": "code",
   "execution_count": 79,
   "id": "08bf35d7",
   "metadata": {},
   "outputs": [
    {
     "data": {
      "text/plain": [
       "LinearRegression()"
      ]
     },
     "execution_count": 79,
     "metadata": {},
     "output_type": "execute_result"
    }
   ],
   "source": [
    "# lalu kita train model dengan data train\n",
    "\n",
    "lin_reg.fit(x_train, y_train)"
   ]
  },
  {
   "cell_type": "code",
   "execution_count": 80,
   "id": "e20892f2",
   "metadata": {},
   "outputs": [
    {
     "name": "stdout",
     "output_type": "stream",
     "text": [
      "[-52768.52992713  60902.58805546    190.10569459  17364.30093003\n",
      " 129318.0014135   -4063.09734348]\n",
      "7208221.989590492\n"
     ]
    }
   ],
   "source": [
    "# kemudian kita cek nilai a dan b,c,d.... dan K yang terbentuk pada persamaan y = ax + bx + cx....zx + K\n",
    "\n",
    "print(lin_reg.coef_)\n",
    "print(lin_reg.intercept_)"
   ]
  },
  {
   "cell_type": "code",
   "execution_count": 81,
   "id": "fadc7fbf",
   "metadata": {},
   "outputs": [
    {
     "data": {
      "text/html": [
       "<div>\n",
       "<style scoped>\n",
       "    .dataframe tbody tr th:only-of-type {\n",
       "        vertical-align: middle;\n",
       "    }\n",
       "\n",
       "    .dataframe tbody tr th {\n",
       "        vertical-align: top;\n",
       "    }\n",
       "\n",
       "    .dataframe thead th {\n",
       "        text-align: right;\n",
       "    }\n",
       "</style>\n",
       "<table border=\"1\" class=\"dataframe\">\n",
       "  <thead>\n",
       "    <tr style=\"text-align: right;\">\n",
       "      <th></th>\n",
       "      <th>features</th>\n",
       "      <th>coef_value</th>\n",
       "    </tr>\n",
       "  </thead>\n",
       "  <tbody>\n",
       "    <tr>\n",
       "      <th>0</th>\n",
       "      <td>bedrooms</td>\n",
       "      <td>-52768.529927</td>\n",
       "    </tr>\n",
       "    <tr>\n",
       "      <th>1</th>\n",
       "      <td>bathrooms</td>\n",
       "      <td>60902.588055</td>\n",
       "    </tr>\n",
       "    <tr>\n",
       "      <th>2</th>\n",
       "      <td>sqft_living</td>\n",
       "      <td>190.105695</td>\n",
       "    </tr>\n",
       "    <tr>\n",
       "      <th>3</th>\n",
       "      <td>floors</td>\n",
       "      <td>17364.300930</td>\n",
       "    </tr>\n",
       "    <tr>\n",
       "      <th>4</th>\n",
       "      <td>grade</td>\n",
       "      <td>129318.001414</td>\n",
       "    </tr>\n",
       "    <tr>\n",
       "      <th>5</th>\n",
       "      <td>yr_built</td>\n",
       "      <td>-4063.097343</td>\n",
       "    </tr>\n",
       "  </tbody>\n",
       "</table>\n",
       "</div>"
      ],
      "text/plain": [
       "      features     coef_value\n",
       "0     bedrooms  -52768.529927\n",
       "1    bathrooms   60902.588055\n",
       "2  sqft_living     190.105695\n",
       "3       floors   17364.300930\n",
       "4        grade  129318.001414\n",
       "5     yr_built   -4063.097343"
      ]
     },
     "execution_count": 81,
     "metadata": {},
     "output_type": "execute_result"
    }
   ],
   "source": [
    "# agar tampilan lebih mudah dibaca\n",
    "\n",
    "coef_dict = {\n",
    "    'features': x.columns,\n",
    "    'coef_value':lin_reg.coef_\n",
    "}\n",
    "coef = pd.DataFrame(coef_dict, columns=['features', 'coef_value'])\n",
    "coef"
   ]
  },
  {
   "cell_type": "code",
   "execution_count": 82,
   "id": "59f9b721",
   "metadata": {},
   "outputs": [
    {
     "data": {
      "text/plain": [
       "0.6129167306116222"
      ]
     },
     "execution_count": 82,
     "metadata": {},
     "output_type": "execute_result"
    }
   ],
   "source": [
    "# kita lihat seberapa akurat model yg kita buat tersebut\n",
    "\n",
    "lin_reg.score(x_test, y_test)"
   ]
  },
  {
   "cell_type": "code",
   "execution_count": 84,
   "id": "7deacfca",
   "metadata": {},
   "outputs": [
    {
     "data": {
      "text/plain": [
       "array([290955.52931743])"
      ]
     },
     "execution_count": 84,
     "metadata": {},
     "output_type": "execute_result"
    }
   ],
   "source": [
    "# kita coba prediksi dengan data sbb\n",
    "# bedrooms = 3, bathrooms = 2, sqft_living = 1500, floors = 2, grade = 7, yr_built = 1995\n",
    "\n",
    "lin_reg.predict([[3,2,1500,2,7,1995]])"
   ]
  },
  {
   "cell_type": "code",
   "execution_count": 86,
   "id": "43c55055",
   "metadata": {},
   "outputs": [
    {
     "data": {
      "text/plain": [
       "Text(0.5, 1.0, 'Plot Horsepower vs Price')"
      ]
     },
     "execution_count": 86,
     "metadata": {},
     "output_type": "execute_result"
    },
    {
     "data": {
      "image/png": "[encoded data removed]",
      "text/plain": [
       "<Figure size 432x288 with 1 Axes>"
      ]
     },
     "metadata": {
      "needs_background": "light"
     },
     "output_type": "display_data"
    }
   ],
   "source": [
    "y_prediksi = lin_reg.predict(x_test)\n",
    "#plt.scatter(x_test, y_test)\n",
    "plt.plot(x_test, y_prediksi, c='r')\n",
    "plt.xlabel('Horsepower')\n",
    "plt.ylabel('Price')\n",
    "plt.title('Plot Horsepower vs Price')"
   ]
  },
  {
   "cell_type": "code",
   "execution_count": null,
   "id": "4ee892af",
   "metadata": {},
   "outputs": [],
   "source": []
  }
 ],
 "metadata": {
  "kernelspec": {
   "display_name": "Python 3",
   "language": "python",
   "name": "python3"
  },
  "language_info": {
   "codemirror_mode": {
    "name": "ipython",
    "version": 3
   },
   "file_extension": ".py",
   "mimetype": "text/x-python",
   "name": "python",
   "nbconvert_exporter": "python",
   "pygments_lexer": "ipython3",
   "version": "3.8.8"
  }
 },
 "nbformat": 4,
 "nbformat_minor": 5
}
